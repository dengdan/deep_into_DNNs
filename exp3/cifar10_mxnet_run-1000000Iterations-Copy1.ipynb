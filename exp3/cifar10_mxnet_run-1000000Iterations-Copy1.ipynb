{
 "cells": [
  {
   "cell_type": "markdown",
   "metadata": {},
   "source": [
    "第一层只有一个kernel, 3x3, 最后的training accuracy为"
   ]
  },
  {
   "cell_type": "code",
   "execution_count": null,
   "metadata": {
    "collapsed": false,
    "scrolled": false
   },
   "outputs": [
    {
     "name": "stdout",
     "output_type": "stream",
     "text": [
      "Epoch:  0 , Iteration  0 \n",
      "\tTrain Accuracy:\t0.13 \n",
      "\tTest Accuracy:\t\t0.0807\n",
      "Epoch:  1 , Iteration  500 \n",
      "\tTrain Accuracy:\t0.05 \n",
      "\tTest Accuracy:\t\t0.0821\n",
      "Epoch:  2 , Iteration  1000 \n",
      "\tTrain Accuracy:\t0.1 \n",
      "\tTest Accuracy:\t\t0.0818\n",
      "Epoch:  3 , Iteration  1500 \n",
      "\tTrain Accuracy:\t0.1 \n",
      "\tTest Accuracy:\t\t0.0817\n",
      "Epoch:  4 , Iteration  2000 \n",
      "\tTrain Accuracy:\t0.05 \n",
      "\tTest Accuracy:\t\t0.0817\n",
      "Epoch:  5 , Iteration  2500 \n",
      "\tTrain Accuracy:\t0.09 \n",
      "\tTest Accuracy:\t\t0.0837\n",
      "Epoch:  6 , Iteration  3000 \n",
      "\tTrain Accuracy:\t0.07 \n",
      "\tTest Accuracy:\t\t0.0823\n",
      "Epoch:  7 , Iteration  3500 \n",
      "\tTrain Accuracy:\t0.14 \n",
      "\tTest Accuracy:\t\t0.0852\n",
      "Epoch:  8 , Iteration  4000 \n",
      "\tTrain Accuracy:\t0.06 \n",
      "\tTest Accuracy:\t\t0.0848\n",
      "Epoch:  9 , Iteration  4500 \n",
      "\tTrain Accuracy:\t0.11 \n",
      "\tTest Accuracy:\t\t0.0863\n",
      "Epoch:  10 , Iteration  5000 \n",
      "\tTrain Accuracy:\t0.1 \n",
      "\tTest Accuracy:\t\t0.0871\n",
      "Epoch:  11 , Iteration  5500 \n",
      "\tTrain Accuracy:\t0.09 \n",
      "\tTest Accuracy:\t\t0.0892\n",
      "Epoch:  12 , Iteration  6000 \n",
      "\tTrain Accuracy:\t0.06 \n",
      "\tTest Accuracy:\t\t0.0906\n",
      "Epoch:  13 , Iteration  6500 \n",
      "\tTrain Accuracy:\t0.08 \n",
      "\tTest Accuracy:\t\t0.0913\n"
     ]
    }
   ],
   "source": [
    "from cifar10_mxnet import *;\n",
    "cnn = network();\n",
    "cnn.train(gpu = 2, niter = 100000000, test_interval = 500, lr = 0.00001)\n",
    "cnn.plot_result();"
   ]
  },
  {
   "cell_type": "code",
   "execution_count": null,
   "metadata": {
    "collapsed": true
   },
   "outputs": [],
   "source": []
  }
 ],
 "metadata": {
  "kernelspec": {
   "display_name": "Python 2",
   "language": "python",
   "name": "python2"
  },
  "language_info": {
   "codemirror_mode": {
    "name": "ipython",
    "version": 2
   },
   "file_extension": ".py",
   "mimetype": "text/x-python",
   "name": "python",
   "nbconvert_exporter": "python",
   "pygments_lexer": "ipython2",
   "version": "2.7.9"
  }
 },
 "nbformat": 4,
 "nbformat_minor": 0
}
