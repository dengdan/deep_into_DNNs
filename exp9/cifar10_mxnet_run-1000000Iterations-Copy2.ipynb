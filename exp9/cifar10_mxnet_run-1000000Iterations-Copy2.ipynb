{
 "cells": [
  {
   "cell_type": "markdown",
   "metadata": {
    "collapsed": true
   },
   "source": [
    "两层$3 \\times 3$ 32, 64"
   ]
  },
  {
   "cell_type": "code",
   "execution_count": null,
   "metadata": {
    "collapsed": false,
    "scrolled": false
   },
   "outputs": [
    {
     "name": "stdout",
     "output_type": "stream",
     "text": [
      "Epoch:  0 , Iteration  0 \n",
      "\tTrain Accuracy:\t0.08 \n",
      "\tTest Accuracy:\t\t0.072\n",
      "Epoch:  1 , Iteration  500 \n",
      "\tTrain Accuracy:\t0.43 \n",
      "\tTest Accuracy:\t\t0.4491\n",
      "Epoch:  2 , Iteration  1000 \n",
      "\tTrain Accuracy:\t0.51 \n",
      "\tTest Accuracy:\t\t0.4999\n",
      "Epoch:  3 , Iteration  1500 \n",
      "\tTrain Accuracy:\t0.58 \n",
      "\tTest Accuracy:\t\t0.508\n",
      "Epoch:  4 , Iteration  2000 \n",
      "\tTrain Accuracy:\t0.51 \n",
      "\tTest Accuracy:\t\t0.5247\n",
      "Epoch:  5 , Iteration  2500 \n",
      "\tTrain Accuracy:\t0.62 \n",
      "\tTest Accuracy:\t\t0.5309\n",
      "Epoch:  6 , Iteration  3000 \n",
      "\tTrain Accuracy:\t0.54 \n",
      "\tTest Accuracy:\t\t0.5342\n"
     ]
    }
   ],
   "source": [
    "from cifar10_mxnet import *;\n",
    "cnn = network();\n",
    "cnn.train(gpu = 2, niter = 10000000, test_interval = 500, lr = 0.0005)\n",
    "cnn.plot_result();"
   ]
  },
  {
   "cell_type": "code",
   "execution_count": null,
   "metadata": {
    "collapsed": true
   },
   "outputs": [],
   "source": []
  }
 ],
 "metadata": {
  "kernelspec": {
   "display_name": "Python 2",
   "language": "python",
   "name": "python2"
  },
  "language_info": {
   "codemirror_mode": {
    "name": "ipython",
    "version": 2
   },
   "file_extension": ".py",
   "mimetype": "text/x-python",
   "name": "python",
   "nbconvert_exporter": "python",
   "pygments_lexer": "ipython2",
   "version": "2.7.9"
  }
 },
 "nbformat": 4,
 "nbformat_minor": 0
}
