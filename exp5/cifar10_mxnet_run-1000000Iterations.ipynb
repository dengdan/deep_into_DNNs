{
 "cells": [
  {
   "cell_type": "markdown",
   "metadata": {
    "collapsed": true
   },
   "source": [
    "第一层只有一个7x7的kernel, "
   ]
  },
  {
   "cell_type": "code",
   "execution_count": null,
   "metadata": {
    "collapsed": false,
    "scrolled": false
   },
   "outputs": [
    {
     "name": "stdout",
     "output_type": "stream",
     "text": [
      "Epoch:  0 , Iteration  0 \n",
      "\tTrain Accuracy:\t0.12 \n",
      "\tTest Accuracy:\t\t0.1078\n",
      "Epoch:  1 , Iteration  500 \n",
      "\tTrain Accuracy:\t0.06 \n",
      "\tTest Accuracy:\t\t0.1\n",
      "Epoch:  2 , Iteration  1000 \n",
      "\tTrain Accuracy:\t0.09 \n",
      "\tTest Accuracy:\t\t0.1\n",
      "Epoch:  3 , Iteration  1500 \n",
      "\tTrain Accuracy:\t0.15 \n",
      "\tTest Accuracy:\t\t0.1026\n",
      "Epoch:  4 , Iteration  2000 \n",
      "\tTrain Accuracy:\t0.18 \n",
      "\tTest Accuracy:\t\t0.1\n",
      "Epoch:  5 , Iteration  2500 \n",
      "\tTrain Accuracy:\t0.13 \n",
      "\tTest Accuracy:\t\t0.1001\n",
      "Epoch:  6 , Iteration  3000 \n",
      "\tTrain Accuracy:\t0.07 \n",
      "\tTest Accuracy:\t\t0.1\n",
      "Epoch:  7 , Iteration  3500 \n",
      "\tTrain Accuracy:\t0.12 \n",
      "\tTest Accuracy:\t\t0.1023\n",
      "Epoch:  8 , Iteration  4000 \n",
      "\tTrain Accuracy:\t0.12 \n",
      "\tTest Accuracy:\t\t0.1011\n",
      "Epoch:  9 , Iteration  4500 \n",
      "\tTrain Accuracy:\t0.08 \n",
      "\tTest Accuracy:\t\t0.1097\n",
      "Epoch:  10 , Iteration  5000 \n",
      "\tTrain Accuracy:\t0.3 \n",
      "\tTest Accuracy:\t\t0.239\n",
      "Epoch:  11 , Iteration  5500 \n",
      "\tTrain Accuracy:\t0.27 \n",
      "\tTest Accuracy:\t\t0.3083\n",
      "Epoch:  12 , Iteration  6000 \n",
      "\tTrain Accuracy:\t0.36 \n",
      "\tTest Accuracy:\t\t0.3372\n",
      "Epoch:  13 , Iteration  6500 \n",
      "\tTrain Accuracy:\t0.46 \n",
      "\tTest Accuracy:\t\t0.3807\n",
      "Epoch:  14 , Iteration  7000 \n",
      "\tTrain Accuracy:\t0.41 \n",
      "\tTest Accuracy:\t\t0.4146\n",
      "Epoch:  15 , Iteration  7500 \n",
      "\tTrain Accuracy:\t0.42 \n",
      "\tTest Accuracy:\t\t0.4394\n",
      "Epoch:  16 , Iteration  8000 \n",
      "\tTrain Accuracy:\t0.37 \n",
      "\tTest Accuracy:\t\t0.4527\n",
      "Epoch:  17 , Iteration  8500 \n",
      "\tTrain Accuracy:\t0.43 \n",
      "\tTest Accuracy:\t\t0.4737\n",
      "Epoch:  18 , Iteration  9000 \n",
      "\tTrain Accuracy:\t0.45 \n",
      "\tTest Accuracy:\t\t0.4873\n",
      "Epoch:  19 , Iteration  9500 \n",
      "\tTrain Accuracy:\t0.39 \n",
      "\tTest Accuracy:\t\t0.4753\n",
      "Epoch:  20 , Iteration  10000 \n",
      "\tTrain Accuracy:\t0.58 \n",
      "\tTest Accuracy:\t\t0.4931\n",
      "Epoch:  21 , Iteration  10500 \n",
      "\tTrain Accuracy:\t0.57 \n",
      "\tTest Accuracy:\t\t0.52\n",
      "Epoch:  22 , Iteration  11000 \n",
      "\tTrain Accuracy:\t0.55 \n",
      "\tTest Accuracy:\t\t0.5309\n",
      "Epoch:  23 , Iteration  11500 \n",
      "\tTrain Accuracy:\t0.47 \n",
      "\tTest Accuracy:\t\t0.527\n",
      "Epoch:  24 , Iteration  12000 \n",
      "\tTrain Accuracy:\t0.48 \n",
      "\tTest Accuracy:\t\t0.5289\n",
      "Epoch:  25 , Iteration  12500 \n",
      "\tTrain Accuracy:\t0.53 \n",
      "\tTest Accuracy:\t\t0.5343\n",
      "Epoch:  26 , Iteration  13000 \n",
      "\tTrain Accuracy:\t0.49 \n",
      "\tTest Accuracy:\t\t0.5253\n"
     ]
    }
   ],
   "source": [
    "from cifar10_mxnet import *;\n",
    "cnn = network();\n",
    "cnn.train(gpu = 1, niter = 10000000, test_interval = 500, lr = 0.001)\n",
    "cnn.plot_result();"
   ]
  },
  {
   "cell_type": "code",
   "execution_count": null,
   "metadata": {
    "collapsed": true
   },
   "outputs": [],
   "source": []
  }
 ],
 "metadata": {
  "kernelspec": {
   "display_name": "Python 2",
   "language": "python",
   "name": "python2"
  },
  "language_info": {
   "codemirror_mode": {
    "name": "ipython",
    "version": 2
   },
   "file_extension": ".py",
   "mimetype": "text/x-python",
   "name": "python",
   "nbconvert_exporter": "python",
   "pygments_lexer": "ipython2",
   "version": "2.7.9"
  }
 },
 "nbformat": 4,
 "nbformat_minor": 0
}
