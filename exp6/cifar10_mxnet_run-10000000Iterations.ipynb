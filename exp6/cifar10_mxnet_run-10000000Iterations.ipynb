{
 "cells": [
  {
   "cell_type": "markdown",
   "metadata": {
    "collapsed": true
   },
   "source": [
    "第二层2个$3 \\times 3$ kernel"
   ]
  },
  {
   "cell_type": "code",
   "execution_count": null,
   "metadata": {
    "collapsed": false,
    "scrolled": false
   },
   "outputs": [
    {
     "name": "stdout",
     "output_type": "stream",
     "text": [
      "Epoch:  0 , Iteration  0 \n",
      "\tTrain Accuracy:\t0.09 \n",
      "\tTest Accuracy:\t\t0.1031\n",
      "Epoch:  1 , Iteration  500 \n",
      "\tTrain Accuracy:\t0.06 \n",
      "\tTest Accuracy:\t\t0.1109\n",
      "Epoch:  2 , Iteration  1000 \n",
      "\tTrain Accuracy:\t0.1 \n",
      "\tTest Accuracy:\t\t0.1284\n",
      "Epoch:  3 , Iteration  1500 \n",
      "\tTrain Accuracy:\t0.09 \n",
      "\tTest Accuracy:\t\t0.0994\n",
      "Epoch:  4 , Iteration  2000 \n",
      "\tTrain Accuracy:\t0.08 \n",
      "\tTest Accuracy:\t\t0.0985\n",
      "Epoch:  5 , Iteration  2500 \n",
      "\tTrain Accuracy:\t0.21 \n",
      "\tTest Accuracy:\t\t0.1895\n",
      "Epoch:  6 , Iteration  3000 \n",
      "\tTrain Accuracy:\t0.27 \n",
      "\tTest Accuracy:\t\t0.2805\n"
     ]
    }
   ],
   "source": [
    "from cifar10_mxnet import *;\n",
    "cnn = network();\n",
    "cnn.train(gpu = 1, niter = 10000000, test_interval = 500, lr = 0.0005)\n",
    "cnn.plot_result();"
   ]
  },
  {
   "cell_type": "code",
   "execution_count": null,
   "metadata": {
    "collapsed": true
   },
   "outputs": [],
   "source": []
  }
 ],
 "metadata": {
  "kernelspec": {
   "display_name": "Python 2",
   "language": "python",
   "name": "python2"
  },
  "language_info": {
   "codemirror_mode": {
    "name": "ipython",
    "version": 2
   },
   "file_extension": ".py",
   "mimetype": "text/x-python",
   "name": "python",
   "nbconvert_exporter": "python",
   "pygments_lexer": "ipython2",
   "version": "2.7.9"
  }
 },
 "nbformat": 4,
 "nbformat_minor": 0
}
