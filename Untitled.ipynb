{
 "cells": [
  {
   "cell_type": "code",
   "execution_count": 22,
   "metadata": {
    "collapsed": false
   },
   "outputs": [
    {
     "name": "stdout",
     "output_type": "stream",
     "text": [
      "0 0 (0, 0)\n",
      "50.0 86.6025403784 (50, 87)\n"
     ]
    },
    {
     "data": {
      "text/plain": [
       "<matplotlib.image.AxesImage at 0x7f8b07748450>"
      ]
     },
     "execution_count": 22,
     "metadata": {},
     "output_type": "execute_result"
    },
    {
     "data": {
      "image/png": "[encoded data removed]",
      "text/plain": [
       "<matplotlib.figure.Figure at 0x7f8b07a48d10>"
      ]
     },
     "metadata": {},
     "output_type": "display_data"
    }
   ],
   "source": [
    "import matplotlib.pyplot as plt\n",
    "%matplotlib inline\n",
    "\n",
    "import cv2\n",
    "import numpy as np\n",
    "\n",
    "\n",
    "COLOR_BLACK = (0, 0, 0);\n",
    "COLOR_WHITE = (255, 255, 255);\n",
    "PI = np.pi\n",
    "dft_shape = (100, 100, 3);\n",
    "dft_color = COLOR_BLACK;\n",
    "dft_length = 100;\n",
    "# generate an image object with pure color\n",
    "def pure_color(color = dft_color, shape = dft_shape):\n",
    "    img = np.ones(shape, np.uint8)\n",
    "    img = img * color;\n",
    "    img = np.uint8(img)\n",
    "    return img\n",
    "\n",
    "\n",
    "# draw a straight line in the generated image.\n",
    "def draw_line(img = None, color = COLOR_WHITE, bg = COLOR_BLACK, shape = dft_shape, start = (0, 0), angle = PI /4, length = dft_length, width = 1):\n",
    "    \"\"\"\n",
    "        draw a straight line in a given or generated image.\n",
    "        shape: tuple with 3 elements:(width, height, channels)\n",
    "        start: the start position of the line to be drew. .\n",
    "        angle: the angle between the line and x-coordinate\n",
    "        color: the color of the line.\n",
    "        length: the length of the line. It can be arbitary value. However, if the calculated end point should lay beyond the image, it will be put on the edge, and thus, the final length of the line will be shorter than the given length.\n",
    "\n",
    "    \"\"\"\n",
    "     \n",
    "    # if an existing image is not given, a new one will be created, using the giving bg color.\n",
    "    if img == None:\n",
    "        img = pure_color(color = bg, shape = shape);\n",
    "        if color == bg:\n",
    "            color = COLOR_WHITE - bg\n",
    "\n",
    "    #the end point of the line\n",
    "    startX, startY = start\n",
    "    endX = startX + length * np.cos(angle)\n",
    "    endY = startY + length * np.sin(angle)\n",
    "    end = (int(round(endX)), int(round(endY)))    \n",
    "    start = (int(round(startX)), int(round(startY)))\n",
    "\n",
    "    \n",
    "    # draw the line\n",
    "    cv2.line(img, start, end,color,width)\n",
    "    return img;\n",
    "\n",
    "img = draw_line(angle = PI /3)\n",
    "plt.imshow(img)\n"
   ]
  },
  {
   "cell_type": "code",
   "execution_count": null,
   "metadata": {
    "collapsed": true
   },
   "outputs": [],
   "source": []
  }
 ],
 "metadata": {
  "kernelspec": {
   "display_name": "Python 2",
   "language": "python",
   "name": "python2"
  },
  "language_info": {
   "codemirror_mode": {
    "name": "ipython",
    "version": 2
   },
   "file_extension": ".py",
   "mimetype": "text/x-python",
   "name": "python",
   "nbconvert_exporter": "python",
   "pygments_lexer": "ipython2",
   "version": "2.7.6"
  }
 },
 "nbformat": 4,
 "nbformat_minor": 0
}
