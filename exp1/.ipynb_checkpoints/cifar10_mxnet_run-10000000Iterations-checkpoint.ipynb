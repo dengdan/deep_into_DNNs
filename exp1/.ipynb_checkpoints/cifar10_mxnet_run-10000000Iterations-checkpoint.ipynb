{
 "cells": [
  {
   "cell_type": "code",
   "execution_count": null,
   "metadata": {
    "collapsed": false,
    "scrolled": false
   },
   "outputs": [
    {
     "name": "stdout",
     "output_type": "stream",
     "text": [
      "Epoch:  0 , Iteration  0 \n",
      "\tTrain Accuracy:\t0.13 \n",
      "\tTest Accuracy:\t\t0.1197\n",
      "Epoch:  1 , Iteration  500 \n",
      "\tTrain Accuracy:\t0.095 \n",
      "\tTest Accuracy:\t\t0.1\n",
      "Epoch:  2 , Iteration  1000 \n",
      "\tTrain Accuracy:\t0.11 \n",
      "\tTest Accuracy:\t\t0.105\n",
      "Epoch:  3 , Iteration  1500 \n",
      "\tTrain Accuracy:\t0.1575 \n",
      "\tTest Accuracy:\t\t0.2486\n",
      "Epoch:  4 , Iteration  2000 \n",
      "\tTrain Accuracy:\t0.168 \n",
      "\tTest Accuracy:\t\t0.2728\n"
     ]
    }
   ],
   "source": [
    "from cifar10_mxnet import *;\n",
    "cnn = network();\n",
    "cnn.train(gpu = 0, niter = 10000000, test_interval = 500, lr = 0.001)\n",
    "cnn.plot_result();"
   ]
  },
  {
   "cell_type": "code",
   "execution_count": null,
   "metadata": {
    "collapsed": true
   },
   "outputs": [],
   "source": []
  }
 ],
 "metadata": {
  "kernelspec": {
   "display_name": "Python 2",
   "language": "python",
   "name": "python2"
  },
  "language_info": {
   "codemirror_mode": {
    "name": "ipython",
    "version": 2
   },
   "file_extension": ".py",
   "mimetype": "text/x-python",
   "name": "python",
   "nbconvert_exporter": "python",
   "pygments_lexer": "ipython2",
   "version": "2.7.6"
  }
 },
 "nbformat": 4,
 "nbformat_minor": 0
}
