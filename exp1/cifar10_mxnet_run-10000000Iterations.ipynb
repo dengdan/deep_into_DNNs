{
 "cells": [
  {
   "cell_type": "code",
   "execution_count": null,
   "metadata": {
    "collapsed": false,
    "scrolled": false
   },
   "outputs": [
    {
     "name": "stdout",
     "output_type": "stream",
     "text": [
      "Epoch:  0 , Iteration  0 \n",
      "\tTrain Accuracy:\t0.12 \n",
      "\tTest Accuracy:\t\t0.1058\n",
      "Epoch:  1 , Iteration  500 \n",
      "\tTrain Accuracy:\t0.095 \n",
      "\tTest Accuracy:\t\t0.1007\n",
      "Epoch:  2 , Iteration  1000 \n",
      "\tTrain Accuracy:\t0.0933333333333 \n",
      "\tTest Accuracy:\t\t0.1001\n",
      "Epoch:  3 , Iteration  1500 \n",
      "\tTrain Accuracy:\t0.1025 \n",
      "\tTest Accuracy:\t\t0.1205\n",
      "Epoch:  4 , Iteration  2000 \n",
      "\tTrain Accuracy:\t0.1 \n",
      "\tTest Accuracy:\t\t0.0991\n",
      "Epoch:  5 , Iteration  2500 \n",
      "\tTrain Accuracy:\t0.101666666667 \n",
      "\tTest Accuracy:\t\t0.116\n",
      "Epoch:  6 , Iteration  3000 \n",
      "\tTrain Accuracy:\t0.117142857143 \n",
      "\tTest Accuracy:\t\t0.2509\n",
      "Epoch:  7 , Iteration  3500 \n",
      "\tTrain Accuracy:\t0.12875 \n",
      "\tTest Accuracy:\t\t0.2644\n",
      "Epoch:  8 , Iteration  4000 \n",
      "\tTrain Accuracy:\t0.141111111111 \n",
      "\tTest Accuracy:\t\t0.2842\n",
      "Epoch:  9 , Iteration  4500 \n",
      "\tTrain Accuracy:\t0.155 \n",
      "\tTest Accuracy:\t\t0.2762\n",
      "Epoch:  10 , Iteration  5000 \n",
      "\tTrain Accuracy:\t0.173636363636 \n",
      "\tTest Accuracy:\t\t0.2991\n",
      "Epoch:  11 , Iteration  5500 \n",
      "\tTrain Accuracy:\t0.1875 \n",
      "\tTest Accuracy:\t\t0.3303\n",
      "Epoch:  12 , Iteration  6000 \n",
      "\tTrain Accuracy:\t0.201538461538 \n",
      "\tTest Accuracy:\t\t0.3424\n",
      "Epoch:  13 , Iteration  6500 \n",
      "\tTrain Accuracy:\t0.21 \n",
      "\tTest Accuracy:\t\t0.347\n",
      "Epoch:  14 , Iteration  7000 \n",
      "\tTrain Accuracy:\t0.224 \n",
      "\tTest Accuracy:\t\t0.3504\n",
      "Epoch:  15 , Iteration  7500 \n",
      "\tTrain Accuracy:\t0.226875 \n",
      "\tTest Accuracy:\t\t0.359\n",
      "Epoch:  16 , Iteration  8000 \n",
      "\tTrain Accuracy:\t0.238823529412 \n",
      "\tTest Accuracy:\t\t0.3737\n",
      "Epoch:  17 , Iteration  8500 \n",
      "\tTrain Accuracy:\t0.245 \n",
      "\tTest Accuracy:\t\t0.3882\n",
      "Epoch:  18 , Iteration  9000 \n",
      "\tTrain Accuracy:\t0.251052631579 \n",
      "\tTest Accuracy:\t\t0.393\n",
      "Epoch:  19 , Iteration  9500 \n",
      "\tTrain Accuracy:\t0.2525 \n",
      "\tTest Accuracy:\t\t0.4045\n",
      "Epoch:  20 , Iteration  10000 \n",
      "\tTrain Accuracy:\t0.263333333333 \n",
      "\tTest Accuracy:\t\t0.4086\n",
      "Epoch:  21 , Iteration  10500 \n",
      "\tTrain Accuracy:\t0.271363636364 \n",
      "\tTest Accuracy:\t\t0.4125\n",
      "Epoch:  22 , Iteration  11000 \n",
      "\tTrain Accuracy:\t0.276956521739 \n",
      "\tTest Accuracy:\t\t0.4213\n",
      "Epoch:  23 , Iteration  11500 \n",
      "\tTrain Accuracy:\t0.2825 \n",
      "\tTest Accuracy:\t\t0.4208\n",
      "Epoch:  24 , Iteration  12000 \n",
      "\tTrain Accuracy:\t0.288 \n",
      "\tTest Accuracy:\t\t0.4364\n",
      "Epoch:  25 , Iteration  12500 \n",
      "\tTrain Accuracy:\t0.293076923077 \n",
      "\tTest Accuracy:\t\t0.4394\n",
      "Epoch:  26 , Iteration  13000 \n",
      "\tTrain Accuracy:\t0.297407407407 \n",
      "\tTest Accuracy:\t\t0.4399\n",
      "Epoch:  27 , Iteration  13500 \n",
      "\tTrain Accuracy:\t0.300714285714 \n",
      "\tTest Accuracy:\t\t0.434\n",
      "Epoch:  28 , Iteration  14000 \n",
      "\tTrain Accuracy:\t0.301034482759 \n",
      "\tTest Accuracy:\t\t0.4455\n",
      "Epoch:  29 , Iteration  14500 \n",
      "\tTrain Accuracy:\t0.307 \n",
      "\tTest Accuracy:\t\t0.4517\n",
      "Epoch:  30 , Iteration  15000 \n",
      "\tTrain Accuracy:\t0.308709677419 \n",
      "\tTest Accuracy:\t\t0.4673\n"
     ]
    }
   ],
   "source": [
    "from cifar10_mxnet import *;\n",
    "cnn = network();\n",
    "cnn.train(gpu = 0, niter = 10000000, test_interval = 500, lr = 0.001)\n",
    "cnn.plot_result();"
   ]
  },
  {
   "cell_type": "code",
   "execution_count": null,
   "metadata": {
    "collapsed": true
   },
   "outputs": [],
   "source": []
  }
 ],
 "metadata": {
  "kernelspec": {
   "display_name": "Python 2",
   "language": "python",
   "name": "python2"
  },
  "language_info": {
   "codemirror_mode": {
    "name": "ipython",
    "version": 2
   },
   "file_extension": ".py",
   "mimetype": "text/x-python",
   "name": "python",
   "nbconvert_exporter": "python",
   "pygments_lexer": "ipython2",
   "version": "2.7.6"
  }
 },
 "nbformat": 4,
 "nbformat_minor": 0
}
